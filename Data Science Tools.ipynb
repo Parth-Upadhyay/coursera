{
 "cells": [
  {
   "cell_type": "markdown",
   "id": "cee2d5db-0ff6-44b5-8a1f-d68b6f3265f2",
   "metadata": {},
   "source": [
    "# **Data Science Tools**"
   ]
  },
  {
   "cell_type": "markdown",
   "id": "385a3b23-a1cd-448b-a6bc-43ec9f9e0a45",
   "metadata": {},
   "source": [
    "In this notebook, Data Science Tools are summarized."
   ]
  },
  {
   "cell_type": "markdown",
   "id": "a5a0418c-e4e5-4cce-80aa-e8a553e755c5",
   "metadata": {},
   "source": [
    "**Objectives:**\n",
    "\n",
    "- List popular languages for Data Science\n",
    "- List of Data Science Tools\n",
    "- Examples of evaluating arithmetic expressions in Python"
   ]
  },
  {
   "cell_type": "markdown",
   "id": "04198a43-f65c-49ac-accc-1a7bae7d744e",
   "metadata": {},
   "source": [
    "Some of the popular languages that Data Scientists use are:\n",
    "1. Python\n",
    "2. R\n",
    "3. Julia"
   ]
  },
  {
   "cell_type": "markdown",
   "id": "b29ff0fd-af3c-4344-a13f-54c4090cd59e",
   "metadata": {},
   "source": [
    "Some of the commonly used libraries used by Data Scientists include:\n",
    "- Numpy\n",
    "- Pandas\n",
    "- Matplotlib"
   ]
  },
  {
   "cell_type": "markdown",
   "id": "9417159c-d73f-4b5d-9c7a-d2bd20adc6a3",
   "metadata": {},
   "source": [
    "| Data Science Tools       |\n",
    "|--------------------------|\n",
    "| Jupyter Notebook         |\n",
    "| RStudio                  |\n",
    "| Visual Studio Code (VS Code) |"
   ]
  },
  {
   "cell_type": "markdown",
   "id": "dc6b2287-c23f-4498-8298-657f6acba9be",
   "metadata": {},
   "source": [
    "### Below are a few examples of evaluating arithmetic expressions in Python"
   ]
  },
  {
   "cell_type": "code",
   "execution_count": 1,
   "id": "15b4eade-7161-4c37-820b-f219ef77bab1",
   "metadata": {},
   "outputs": [
    {
     "data": {
      "text/plain": [
       "20"
      ]
     },
     "execution_count": 1,
     "metadata": {},
     "output_type": "execute_result"
    }
   ],
   "source": [
    "# This a simple arithmetic expression to multiply then add integers.\n",
    "(3*5)+5"
   ]
  },
  {
   "cell_type": "code",
   "execution_count": 2,
   "id": "25330495-9b93-4b95-bc6a-ee41672171d6",
   "metadata": {},
   "outputs": [
    {
     "data": {
      "text/plain": [
       "3.3333333333333335"
      ]
     },
     "execution_count": 2,
     "metadata": {},
     "output_type": "execute_result"
    }
   ],
   "source": [
    "# This will convert 200 minutes to hours by diving by 60.\n",
    "200/60"
   ]
  },
  {
   "cell_type": "markdown",
   "id": "8577583a-aa1c-441a-bda3-fd4bc9bacfbd",
   "metadata": {},
   "source": [
    "## Author\n",
    "Parth Upadhyay"
   ]
  },
  {
   "cell_type": "code",
   "execution_count": null,
   "id": "45dd1af5-dfc5-44eb-b81e-fdf275c2efb6",
   "metadata": {},
   "outputs": [],
   "source": []
  }
 ],
 "metadata": {
  "kernelspec": {
   "display_name": "Python 3 (ipykernel)",
   "language": "python",
   "name": "python3"
  },
  "language_info": {
   "codemirror_mode": {
    "name": "ipython",
    "version": 3
   },
   "file_extension": ".py",
   "mimetype": "text/x-python",
   "name": "python",
   "nbconvert_exporter": "python",
   "pygments_lexer": "ipython3",
   "version": "3.13.1"
  }
 },
 "nbformat": 4,
 "nbformat_minor": 5
}
