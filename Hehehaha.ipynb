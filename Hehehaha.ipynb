{
 "cells": [
  {
   "cell_type": "markdown",
   "id": "724a4138-f078-4244-bee4-2c7ab413310c",
   "metadata": {},
   "source": [
    "Hehehaha"
   ]
  },
  {
   "cell_type": "markdown",
   "id": "8cbd381c-a6ad-4204-84b6-a81be5849bbf",
   "metadata": {},
   "source": [
    "wsg cuz"
   ]
  },
  {
   "cell_type": "markdown",
   "id": "80c3aa29-df17-4350-8c95-0b3e23d2d556",
   "metadata": {},
   "source": [
    "python r"
   ]
  },
  {
   "cell_type": "markdown",
   "id": "1377fdcc-ddd2-4621-b485-d767b0a6d984",
   "metadata": {},
   "source": [
    "tensorflow and numpy,pandas"
   ]
  },
  {
   "cell_type": "markdown",
   "id": "116a4b40-6d30-4351-9e95-91e0d7ab6eb7",
   "metadata": {},
   "source": [
    "| Python      | Sci-kit     | R        |\n",
    "----------------------------------------\n",
    "| Statistics  | Tensorflow  |  Pandas  |\n",
    "\n"
   ]
  },
  {
   "cell_type": "markdown",
   "id": "9c6ccf4a-7fd6-4c13-8157-1f241734ee6b",
   "metadata": {},
   "source": [
    "68+90000/12"
   ]
  },
  {
   "cell_type": "code",
   "execution_count": 1,
   "id": "2cc9ed77-0dbd-4523-81be-b88e1fc6047c",
   "metadata": {},
   "outputs": [
    {
     "data": {
      "text/plain": [
       "107"
      ]
     },
     "execution_count": 1,
     "metadata": {},
     "output_type": "execute_result"
    }
   ],
   "source": [
    "34+73"
   ]
  },
  {
   "cell_type": "code",
   "execution_count": 3,
   "id": "9bf483ab-ac1e-4712-9091-760abd1d0317",
   "metadata": {},
   "outputs": [
    {
     "name": "stdin",
     "output_type": "stream",
     "text": [
      " 66\n"
     ]
    },
    {
     "name": "stdout",
     "output_type": "stream",
     "text": [
      "1.1\n"
     ]
    }
   ],
   "source": [
    "a = int(input())\n",
    "a = a / 60\n",
    "print(a)"
   ]
  },
  {
   "cell_type": "markdown",
   "id": "37e16d71-d4b8-4e18-9e4b-c600d04a089e",
   "metadata": {},
   "source": [
    "1)Mega Knight actually so overpowered he need to be nerfed\n",
    "2)Hog Riderrrrrrrrrrrrrrrrrrrrrr\n",
    "3)Dart Goblin"
   ]
  },
  {
   "cell_type": "markdown",
   "id": "00f65244-eb98-4321-b1e1-e737a751d3ce",
   "metadata": {},
   "source": [
    "## Parth Upadhyay"
   ]
  },
  {
   "cell_type": "code",
   "execution_count": null,
   "id": "0f2e650a-27a8-4701-af05-178d27b7394f",
   "metadata": {},
   "outputs": [],
   "source": []
  }
 ],
 "metadata": {
  "kernelspec": {
   "display_name": "Python 3 (ipykernel)",
   "language": "python",
   "name": "python3"
  },
  "language_info": {
   "codemirror_mode": {
    "name": "ipython",
    "version": 3
   },
   "file_extension": ".py",
   "mimetype": "text/x-python",
   "name": "python",
   "nbconvert_exporter": "python",
   "pygments_lexer": "ipython3",
   "version": "3.13.1"
  }
 },
 "nbformat": 4,
 "nbformat_minor": 5
}
